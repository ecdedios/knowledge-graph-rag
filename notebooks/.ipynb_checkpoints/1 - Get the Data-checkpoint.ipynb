{
 "cells": [
  {
   "cell_type": "code",
   "execution_count": null,
   "id": "29cc7d78-0a4d-4b2e-8a02-53a85be65013",
   "metadata": {},
   "outputs": [],
   "source": [
    "NUM_PAGES = 2\n",
    "\n",
    "assert NUM_PAGES > 1, \"NUM_PAGES should be more than 1.\""
   ]
  },
  {
   "cell_type": "code",
   "execution_count": null,
   "id": "3fd77824-8358-4dac-b52b-02acaee94136",
   "metadata": {},
   "outputs": [],
   "source": [
    "from selenium import webdriver\n",
    "from selenium.webdriver.common.by import By"
   ]
  },
  {
   "cell_type": "code",
   "execution_count": null,
   "id": "9768dff2-cfe2-4d55-9dbc-2c069528fed3",
   "metadata": {},
   "outputs": [],
   "source": [
    "links = []\n",
    "\n",
    "# opens Chrome window\n",
    "driver = webdriver.Chrome()\n",
    "\n",
    "# get the links on the first page\n",
    "driver.get(\"https://www.sa.gov/Directory/Departments/CE/Media-Relations/News-Releases\")\n",
    "post_links = driver.find_elements(By.CSS_SELECTOR, 'article a')\n",
    "for link in post_links:\n",
    "    links.append(link.get_attribute(\"href\"))\n",
    "\n",
    "# get the links on subsequent pages\n",
    "for page_num in range(2, NUM_PAGES + 1):\n",
    "    driver.get(\"https://www.sa.gov/Directory/Departments/CE/Media-Relations/News-Releases?dlv_OCP%20CL%20Main%20Press%20Release%20Listing=(pageindex=\" + str(page_num) + \")\")\n",
    "    post_links = driver.find_elements(By.CSS_SELECTOR, 'article a')\n",
    "    for link in post_links:\n",
    "        links.append(link.get_attribute(\"href\"))\n",
    "\n",
    "# closes Chrome window\n",
    "driver.quit()"
   ]
  },
  {
   "cell_type": "code",
   "execution_count": null,
   "id": "ef5734c1-14d6-4e0b-aabf-7b70234b8a81",
   "metadata": {},
   "outputs": [],
   "source": [
    "from bs4 import BeautifulSoup\n",
    "import requests"
   ]
  },
  {
   "cell_type": "code",
   "execution_count": null,
   "id": "5f884516-d5e1-4188-9636-129250df939c",
   "metadata": {},
   "outputs": [],
   "source": [
    "def save_list_to_file(lst, filename):\n",
    "    \"\"\"\n",
    "    Takes a list of links and turns each one to a file.\n",
    "    \"\"\"\n",
    "    with open(filename, 'w') as f:\n",
    "        for item in lst:\n",
    "            f.write(str(item) + '\\n')"
   ]
  },
  {
   "cell_type": "code",
   "execution_count": null,
   "id": "c45ebf26-beb1-420d-8fbd-572c4052b6f9",
   "metadata": {},
   "outputs": [],
   "source": [
    "from datetime import datetime\n",
    "\n",
    "def current_time_to_serial():\n",
    "    \"\"\"\n",
    "    Returns the current timestamp in serial format.\n",
    "    \"\"\"\n",
    "    current_time = datetime.now()\n",
    "    return current_time.timestamp()"
   ]
  },
  {
   "cell_type": "code",
   "execution_count": null,
   "id": "f3c2ab25-f554-4341-87ff-bea1e25366d6",
   "metadata": {},
   "outputs": [],
   "source": [
    "for post_link in links:\n",
    "    soup = BeautifulSoup(requests.get(post_link).content, 'html.parser')\n",
    "    \n",
    "    # Find all elements with the specified class\n",
    "    contents = soup.find_all('div', class_='grid')\n",
    "\n",
    "    texts = []\n",
    "    \n",
    "    # Iterate through the div elements\n",
    "    for content in contents:\n",
    "        # Find and extract text from paragraphs\n",
    "        paragraphs = content.find_all('p')\n",
    "        paragraph_texts = [p.get_text() for p in paragraphs]\n",
    "        texts.append(paragraph_texts)\n",
    "\n",
    "    save_list_to_file(texts, \"../data/content-\" + str(current_time_to_serial()) + \".txt\")"
   ]
  }
 ],
 "metadata": {
  "kernelspec": {
   "display_name": "Python 3 (ipykernel)",
   "language": "python",
   "name": "python3"
  },
  "language_info": {
   "codemirror_mode": {
    "name": "ipython",
    "version": 3
   },
   "file_extension": ".py",
   "mimetype": "text/x-python",
   "name": "python",
   "nbconvert_exporter": "python",
   "pygments_lexer": "ipython3",
   "version": "3.12.4"
  }
 },
 "nbformat": 4,
 "nbformat_minor": 5
}
