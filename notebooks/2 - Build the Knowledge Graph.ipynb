{
 "cells": [
  {
   "cell_type": "code",
   "execution_count": null,
   "id": "f425606d-0354-4383-86a3-3db343854fcf",
   "metadata": {},
   "outputs": [],
   "source": [
    "import os\n",
    "from dotenv import load_dotenv\n",
    "import json\n",
    "import matplotlib.pyplot as plt\n",
    "import networkx as nx\n",
    "from openai import OpenAI\n",
    "import pandas as pd\n",
    "from sentence_transformers import SentenceTransformer, util"
   ]
  },
  {
   "cell_type": "code",
   "execution_count": null,
   "id": "700011e7-698c-44a4-97d7-e4fa466e7231",
   "metadata": {},
   "outputs": [],
   "source": [
    "# set display options\n",
    "pd.set_option('display.max_columns', None)\n",
    "pd.set_option('display.max_rows', None)\n",
    "pd.set_option('display.max_colwidth', None)"
   ]
  },
  {
   "cell_type": "code",
   "execution_count": null,
   "id": "d8e4befe-37e9-451e-9117-516e8a48ad64",
   "metadata": {},
   "outputs": [],
   "source": [
    "# LIMIT\n",
    "LIMIT = 4999"
   ]
  },
  {
   "cell_type": "code",
   "execution_count": null,
   "id": "26cfe775-b9ae-4b76-95d6-6fa9932befae",
   "metadata": {},
   "outputs": [],
   "source": [
    "FOLDER_PATH  = \"C:/Users/Dd/OneDrive/Documents/_github/knowledge-graph-rag/data\"\n",
    "\n",
    "os.chdir(FOLDER_PATH)\n",
    "documents = []\n",
    "  \n",
    "# iterate through all files\n",
    "for file in os.listdir(): \n",
    "    # Check whether file is in text format or not \n",
    "    if file.endswith(\".txt\"):\n",
    "        size = os.path.getsize(os.path.join(file))\n",
    "        if size < LIMIT:\n",
    "            file_path = f\"{FOLDER_PATH}/{file}\"\n",
    "            with open(file_path, 'r', encoding = \"cp1252\") as f:\n",
    "                documents.append(f.read())\n",
    "len(documents)"
   ]
  },
  {
   "cell_type": "code",
   "execution_count": null,
   "id": "5a561a6c-4a78-4fc3-8c19-17042c9491a4",
   "metadata": {},
   "outputs": [],
   "source": [
    "load_dotenv()\n",
    "api_key = os.getenv(\"API_KEY\")\n",
    "client = OpenAI(api_key=api_key)"
   ]
  },
  {
   "cell_type": "code",
   "execution_count": null,
   "id": "a306337e-8194-44ba-95ec-74a9cc63a650",
   "metadata": {},
   "outputs": [],
   "source": [
    "system_prompt = \"\"\"\n",
    "You are an expert on  knowledge graph specializing on extracting entities and relationships.\n",
    "\n",
    "Your task is to identify the entities and relations requested with the user prompt, from a given document.\n",
    "\n",
    "You must generate the output in a JSON containing a list with JSON objects having first level keys only: \"head\", \"head_type\",\n",
    "\"relation\", \"tail\", and \"tail_type\".\n",
    "\n",
    "The \"head\" key must contain the text of the extracted entity,\n",
    "the \"head_type\" key must contain the type of the extracted head entity,\n",
    "the \"relation\" key must contain the type of relation between the \"head\" and the \"tail\", the \"tail\" key must represent the text of an\n",
    "extracted entity which is the tail of the relation, and the \"tail_type\" key must contain the type of the tail entity.\n",
    "\n",
    "Attempt to extract as many entities and relations as you can but do not make things up.\n",
    "\n",
    "The JSON must have only \"head\", \"head_type\", \"relation\", \"tail\", and \"tail_type\" as first-level keys.\n",
    "Do not use any other keys.\n",
    "Do not use entities or extracted entities as keys.\n",
    "\n",
    "Use the following format as an example output:\n",
    "\n",
    "[\n",
    "\n",
    "  {{\n",
    "    \"head\": \"President Biden\",\n",
    "    \"head_type\": \"organization\",\n",
    "    \"relation\": \"working for\",\n",
    "    \"tail\": \"American people\",\n",
    "    \"tail_type\": \"organization\"\n",
    "  }}\n",
    "]\n",
    "\"\"\""
   ]
  },
  {
   "cell_type": "code",
   "execution_count": null,
   "id": "53583b70-bc9b-452a-9786-2b4b5048fa38",
   "metadata": {},
   "outputs": [],
   "source": [
    "user_prompt = \"\"\"Based on the following example, extract entities and relations from the provided document.\n",
    "\n",
    "--> Beginning of example\n",
    "\n",
    "# Document\n",
    "\"We'll be in touch with the latest information on how President Biden and his administration\n",
    "are working for the American people. Today, Israeli security forces conducted a successful\n",
    "operation to rescue four hostages from the grips of Hamas in Gaza.\"\n",
    "\n",
    "################\n",
    "\n",
    "# Output\n",
    "[\n",
    "\n",
    "  {{\n",
    "    \"head\": \"President Biden\",\n",
    "    \"head_type\": \"organization\",\n",
    "    \"relation\": \"working for\",\n",
    "    \"tail\": \"American people\",\n",
    "    \"tail_type\": \"organization\"\n",
    "  }}\n",
    "]\n",
    "\n",
    "--> End of example\n",
    "\n",
    "For the following document, generate extract entities and relations as in the provided example.\n",
    "\n",
    "# Document\n",
    "{document}\n",
    "\n",
    "\n",
    "################\n",
    "\"\"\""
   ]
  },
  {
   "cell_type": "code",
   "execution_count": null,
   "id": "660c943d-9d0e-42bf-920d-53b7c0366121",
   "metadata": {},
   "outputs": [],
   "source": [
    "def extract_information(text, model=\"gpt-3.5-turbo\"):\n",
    "    completion = client.chat.completions.create(\n",
    "        model=\"gpt-3.5-turbo\",\n",
    "        temperature=0,\n",
    "        messages=[\n",
    "            {\n",
    "                \"role\": \"system\",\n",
    "                \"content\": system_prompt\n",
    "            },\n",
    "            {\n",
    "                \"role\": \"user\",\n",
    "                \"content\": user_prompt.format(\n",
    "                    document=document\n",
    "                )\n",
    "            }\n",
    "        ],\n",
    "        response_format={\"type\": \"json_object\"}\n",
    "    )\n",
    "    \n",
    "    print(completion.choices[0].message.content)\n",
    "    return completion.choices[0].message.content"
   ]
  },
  {
   "cell_type": "code",
   "execution_count": null,
   "id": "43bf0864-69c2-4912-98aa-bfa1fdcd87fd",
   "metadata": {},
   "outputs": [],
   "source": [
    "kg = []\n",
    "for document in documents:\n",
    "    clean_document = document.encode() \\\n",
    "                .decode('unicode-escape') \\\n",
    "                .replace('\\xa0',' ') \\\n",
    "                .replace('\\t',' ') \\\n",
    "                .replace('â', '')\n",
    "    extracted_relationships = extract_information(clean_document)\n",
    "    clean_relationships = json.loads(extracted_relationships)\n",
    "    kg.append(clean_relationships)\n",
    "kg"
   ]
  },
  {
   "cell_type": "code",
   "execution_count": null,
   "id": "ef165c76-9966-4950-918c-3c35d4616393",
   "metadata": {},
   "outputs": [],
   "source": [
    "relationships = pd.DataFrame(kg)"
   ]
  },
  {
   "cell_type": "code",
   "execution_count": null,
   "id": "ea0cb8b3-7f94-4561-b5eb-f92021941103",
   "metadata": {},
   "outputs": [],
   "source": [
    "relationships"
   ]
  },
  {
   "cell_type": "code",
   "execution_count": null,
   "id": "13b1cbc6-a0db-4a0a-a0aa-40e365e34364",
   "metadata": {},
   "outputs": [],
   "source": [
    "relationships = relationships.loc[relationships.astype(str).drop_duplicates().index]"
   ]
  },
  {
   "cell_type": "code",
   "execution_count": null,
   "id": "8374e5c4-9a81-4e45-abf8-4438a862ca49",
   "metadata": {},
   "outputs": [],
   "source": [
    "relationships = relationships.dropna()"
   ]
  },
  {
   "cell_type": "code",
   "execution_count": null,
   "id": "d12ca463-7a84-42ce-91c6-dbe2e144b6cf",
   "metadata": {},
   "outputs": [],
   "source": [
    "heads = relationships['head'].values\n",
    "embedding_model = SentenceTransformer('all-MiniLM-L6-v2')\n",
    "embeddings = embedding_model.encode(heads)\n",
    "similarity = util.cos_sim(embeddings[0], embeddings[1])"
   ]
  },
  {
   "cell_type": "code",
   "execution_count": null,
   "id": "b27ba6a8-bc00-4dfa-9a4a-ca0873b35aff",
   "metadata": {},
   "outputs": [],
   "source": [
    "G = nx.Graph()\n",
    "for _, row in relationships.iterrows():\n",
    "  G.add_edge(row['head'], row['tail'], label=row['relation'])"
   ]
  },
  {
   "cell_type": "code",
   "execution_count": null,
   "id": "644f41d1-f3cd-415d-a5e2-cafa423a63b1",
   "metadata": {},
   "outputs": [],
   "source": [
    "pos = nx.spring_layout(G, seed=47, k=0.9)\n",
    "labels = nx.get_edge_attributes(G, 'label')\n",
    "plt.figure(figsize=(15, 15))\n",
    "nx.draw(G, pos, with_labels=True, font_size=10, node_size=700, node_color='lightblue', edge_color='gray', alpha=0.6)\n",
    "nx.draw_networkx_edge_labels(G, pos, edge_labels=labels, font_size=8, label_pos=0.3, verticalalignment='baseline')\n",
    "plt.show()"
   ]
  },
  {
   "cell_type": "code",
   "execution_count": null,
   "id": "6f0da2f9-1c7e-4987-8db8-ec849e79bb4c",
   "metadata": {},
   "outputs": [],
   "source": [
    "relationships.to_csv('../data/relations.csv', index=False)"
   ]
  }
 ],
 "metadata": {
  "kernelspec": {
   "display_name": "Python 3 (ipykernel)",
   "language": "python",
   "name": "python3"
  },
  "language_info": {
   "codemirror_mode": {
    "name": "ipython",
    "version": 3
   },
   "file_extension": ".py",
   "mimetype": "text/x-python",
   "name": "python",
   "nbconvert_exporter": "python",
   "pygments_lexer": "ipython3",
   "version": "3.12.4"
  }
 },
 "nbformat": 4,
 "nbformat_minor": 5
}
